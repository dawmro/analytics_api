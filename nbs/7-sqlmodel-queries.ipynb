{
 "cells": [
  {
   "cell_type": "code",
   "execution_count": 31,
   "id": "958c3381",
   "metadata": {},
   "outputs": [],
   "source": [
    "import sys\n",
    "from pathlib import Path\n",
    "from pprint import pprint"
   ]
  },
  {
   "cell_type": "code",
   "execution_count": 22,
   "id": "0be37631",
   "metadata": {},
   "outputs": [
    {
     "name": "stdout",
     "output_type": "stream",
     "text": [
      "F:\\OneDrive\\github\\analytics_api\\src\n"
     ]
    }
   ],
   "source": [
    "src_path = Path(\"../src\").resolve()\n",
    "print(src_path)\n",
    "sys.path.append(str(src_path))"
   ]
  },
  {
   "cell_type": "code",
   "execution_count": 42,
   "id": "26dbefe1",
   "metadata": {},
   "outputs": [],
   "source": [
    "from sqlmodel import Session, select\n",
    "from api.db.session import engine\n",
    "from api.events.models import EventModel\n",
    "from timescaledb.hyperfunctions import time_bucket\n",
    "from sqlalchemy import func\n",
    "from datetime import datetime, timedelta, timezone "
   ]
  },
  {
   "cell_type": "code",
   "execution_count": null,
   "id": "16ad5a51",
   "metadata": {},
   "outputs": [
    {
     "name": "stdout",
     "output_type": "stream",
     "text": [
      "SELECT eventmodel.id, eventmodel.time, eventmodel.page, eventmodel.description, eventmodel.updated_at \n",
      "FROM eventmodel ORDER BY eventmodel.updated_at ASC\n",
      " LIMIT 10\n",
      "\n",
      "SELECT eventmodel.id, eventmodel.time, eventmodel.page, eventmodel.description, eventmodel.updated_at \n",
      "FROM eventmodel ORDER BY eventmodel.updated_at ASC\n",
      " LIMIT :param_1\n"
     ]
    }
   ],
   "source": [
    "with Session(engine) as session:\n",
    "    query = select(EventModel).order_by(EventModel.updated_at.asc()).limit(10)\n",
    "    compiled_query = query.compile(compile_kwargs={\"literal_binds\": True})\n",
    "    print(compiled_query) # to be run in PopSQL\n",
    "    print(\"\")\n",
    "    print(str(query))\n",
    "    # results = session.exec(query).fetchall()\n",
    "    # pprint(results)"
   ]
  },
  {
   "cell_type": "code",
   "execution_count": 43,
   "id": "8657d9da",
   "metadata": {},
   "outputs": [
    {
     "name": "stdout",
     "output_type": "stream",
     "text": [
      "SELECT time_bucket('1 hour'::interval, eventmodel.time) AS time_bucket_1, eventmodel.page, count(*) AS count_1 \n",
      "FROM eventmodel \n",
      "WHERE eventmodel.time > '2025-10-28 22:26:55.045049+00:00' AND eventmodel.time <= '2025-10-29 00:26:55.045049+00:00' AND eventmodel.page IN ('/about', '/contact', '/pages', '/pricing') GROUP BY time_bucket('1 hour'::interval, eventmodel.time), eventmodel.page ORDER BY time_bucket('1 hour'::interval, eventmodel.time), eventmodel.page\n",
      "\n",
      "SELECT time_bucket('1 hour'::interval, eventmodel.time) AS time_bucket_1, eventmodel.page, count(*) AS count_1 \n",
      "FROM eventmodel \n",
      "WHERE eventmodel.time > :time_1 AND eventmodel.time <= :time_2 AND eventmodel.page IN (__[POSTCOMPILE_page_1]) GROUP BY time_bucket('1 hour'::interval, eventmodel.time), eventmodel.page ORDER BY time_bucket('1 hour'::interval, eventmodel.time), eventmodel.page\n"
     ]
    }
   ],
   "source": [
    "\n",
    "with Session(engine) as session:\n",
    "    bucket = time_bucket(\"1 hour\", EventModel.time)\n",
    "    pages = ['/about', '/contact', '/pages', '/pricing']\n",
    "    start = datetime.now(timezone.utc) - timedelta(hours=1)\n",
    "    finish = datetime.now(timezone.utc) + timedelta(hours=1)\n",
    "    query = (\n",
    "        select(\n",
    "            bucket,\n",
    "            EventModel.page,\n",
    "            func.count()    \n",
    "        )\n",
    "        .where(\n",
    "            EventModel.time > start,\n",
    "            EventModel.time <= finish,\n",
    "            EventModel.page.in_(pages)\n",
    "        )\n",
    "        .group_by(\n",
    "            bucket,\n",
    "            EventModel.page\n",
    "        )\n",
    "        .order_by(\n",
    "            bucket,\n",
    "            EventModel.page\n",
    "        )\n",
    "    )\n",
    "    compiled_query = query.compile(compile_kwargs={\"literal_binds\": True})\n",
    "    print(compiled_query) # to be run in PopSQL\n",
    "    print(\"\")\n",
    "    print(str(query))\n",
    "    # results = session.exec(query).fetchall()\n",
    "    # pprint(results)"
   ]
  }
 ],
 "metadata": {
  "kernelspec": {
   "display_name": "venv",
   "language": "python",
   "name": "python3"
  },
  "language_info": {
   "codemirror_mode": {
    "name": "ipython",
    "version": 3
   },
   "file_extension": ".py",
   "mimetype": "text/x-python",
   "name": "python",
   "nbconvert_exporter": "python",
   "pygments_lexer": "ipython3",
   "version": "3.12.5"
  }
 },
 "nbformat": 4,
 "nbformat_minor": 5
}
