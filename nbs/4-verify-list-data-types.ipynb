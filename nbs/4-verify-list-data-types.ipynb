{
 "cells": [
  {
   "cell_type": "code",
   "execution_count": 7,
   "id": "0825afeb",
   "metadata": {},
   "outputs": [],
   "source": [
    "import requests\n",
    "from pprint import pprint"
   ]
  },
  {
   "cell_type": "code",
   "execution_count": 8,
   "id": "46e0bfed",
   "metadata": {},
   "outputs": [
    {
     "name": "stdout",
     "output_type": "stream",
     "text": [
      "http://localhost:8002/api/events\n"
     ]
    }
   ],
   "source": [
    "path = \"/api/events\"\n",
    "base_url = \"http://localhost:8002\"\n",
    "endpoint = f\"{base_url}{path}\"\n",
    "print(endpoint)"
   ]
  },
  {
   "cell_type": "code",
   "execution_count": 9,
   "id": "cb86f3af",
   "metadata": {},
   "outputs": [
    {
     "name": "stdout",
     "output_type": "stream",
     "text": [
      "True\n"
     ]
    }
   ],
   "source": [
    "response = requests.get(endpoint)\n",
    "print(response.ok)"
   ]
  },
  {
   "cell_type": "code",
   "execution_count": 10,
   "id": "b1cdfc6a",
   "metadata": {},
   "outputs": [
    {
     "name": "stdout",
     "output_type": "stream",
     "text": [
      "{'count': 4,\n",
      " 'results': [{'created_at': '2025-10-27T22:31:56.714640Z',\n",
      "              'description': 'hello test',\n",
      "              'id': 1,\n",
      "              'page': '/test+',\n",
      "              'updated_at': '2025-10-27T22:34:39.102110Z'},\n",
      "             {'created_at': '2025-10-27T22:34:38.991105Z',\n",
      "              'description': 'default description',\n",
      "              'id': 4,\n",
      "              'page': '/test+',\n",
      "              'updated_at': '2025-10-27T22:34:38.991113Z'},\n",
      "             {'created_at': '2025-10-27T22:34:36.470961Z',\n",
      "              'description': 'default description',\n",
      "              'id': 3,\n",
      "              'page': '/test+',\n",
      "              'updated_at': '2025-10-27T22:34:36.470969Z'},\n",
      "             {'created_at': '2025-10-27T22:34:32.608627Z',\n",
      "              'description': 'default description',\n",
      "              'id': 2,\n",
      "              'page': '/test+',\n",
      "              'updated_at': '2025-10-27T22:34:32.608635Z'}]}\n"
     ]
    }
   ],
   "source": [
    "if response.ok:\n",
    "    data = response.json()\n",
    "    pprint(data)"
   ]
  },
  {
   "cell_type": "code",
   "execution_count": 11,
   "id": "cbbda97d",
   "metadata": {},
   "outputs": [
    {
     "name": "stdout",
     "output_type": "stream",
     "text": [
      "404 {\"detail\":\"Event not found\"}\n"
     ]
    }
   ],
   "source": [
    "detail_path = \"/api/events/14\"\n",
    "detail_endpoint = f\"{base_url}{detail_path}\"\n",
    "\n",
    "detail_response = requests.get(detail_endpoint)\n",
    "print(detail_response.status_code, detail_response.text)\n",
    "\n",
    "if detail_response.ok:\n",
    "    data = detail_response.json()\n",
    "    pprint(data)\n"
   ]
  },
  {
   "cell_type": "code",
   "execution_count": 12,
   "id": "c7caa912",
   "metadata": {},
   "outputs": [
    {
     "name": "stdout",
     "output_type": "stream",
     "text": [
      "404 {\"detail\":\"Event not found\"}\n"
     ]
    }
   ],
   "source": [
    "detail_path = \"/api/events/15\"\n",
    "detail_endpoint = f\"{base_url}{detail_path}\"\n",
    "\n",
    "detail_response = requests.get(detail_endpoint)\n",
    "print(detail_response.status_code, detail_response.text)\n",
    "\n",
    "if detail_response.ok:\n",
    "    data = detail_response.json()\n",
    "    pprint(data)"
   ]
  }
 ],
 "metadata": {
  "kernelspec": {
   "display_name": "venv",
   "language": "python",
   "name": "python3"
  },
  "language_info": {
   "codemirror_mode": {
    "name": "ipython",
    "version": 3
   },
   "file_extension": ".py",
   "mimetype": "text/x-python",
   "name": "python",
   "nbconvert_exporter": "python",
   "pygments_lexer": "ipython3",
   "version": "3.12.5"
  }
 },
 "nbformat": 4,
 "nbformat_minor": 5
}
