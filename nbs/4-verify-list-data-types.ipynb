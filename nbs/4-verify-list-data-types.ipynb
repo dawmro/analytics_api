{
 "cells": [
  {
   "cell_type": "code",
   "execution_count": 1,
   "id": "0825afeb",
   "metadata": {},
   "outputs": [],
   "source": [
    "import requests\n",
    "from pprint import pprint"
   ]
  },
  {
   "cell_type": "code",
   "execution_count": 2,
   "id": "46e0bfed",
   "metadata": {},
   "outputs": [
    {
     "name": "stdout",
     "output_type": "stream",
     "text": [
      "http://localhost:8002/api/events\n"
     ]
    }
   ],
   "source": [
    "path = \"/api/events\"\n",
    "base_url = \"http://localhost:8002\"\n",
    "endpoint = f\"{base_url}{path}\"\n",
    "print(endpoint)"
   ]
  },
  {
   "cell_type": "code",
   "execution_count": 3,
   "id": "cb86f3af",
   "metadata": {},
   "outputs": [
    {
     "name": "stdout",
     "output_type": "stream",
     "text": [
      "True\n"
     ]
    }
   ],
   "source": [
    "response = requests.get(endpoint)\n",
    "print(response.ok)"
   ]
  },
  {
   "cell_type": "code",
   "execution_count": 4,
   "id": "b1cdfc6a",
   "metadata": {},
   "outputs": [
    {
     "name": "stdout",
     "output_type": "stream",
     "text": [
      "{'count': 10,\n",
      " 'results': [{'description': 'default description', 'id': 14, 'page': '/test+'},\n",
      "             {'description': 'default description', 'id': 13, 'page': '/test+'},\n",
      "             {'description': 'default description', 'id': 12, 'page': '/test+'},\n",
      "             {'description': 'default description', 'id': 11, 'page': '/test+'},\n",
      "             {'description': 'default description', 'id': 10, 'page': '/test+'},\n",
      "             {'description': 'default description', 'id': 9, 'page': '/test+'},\n",
      "             {'description': 'default description', 'id': 8, 'page': '/test+'},\n",
      "             {'description': 'default description', 'id': 7, 'page': '/test+'},\n",
      "             {'description': 'default description', 'id': 6, 'page': '/test+'},\n",
      "             {'description': 'default description', 'id': 5, 'page': '/test+'}]}\n"
     ]
    }
   ],
   "source": [
    "if response.ok:\n",
    "    data = response.json()\n",
    "    pprint(data)"
   ]
  },
  {
   "cell_type": "code",
   "execution_count": 5,
   "id": "cbbda97d",
   "metadata": {},
   "outputs": [
    {
     "name": "stdout",
     "output_type": "stream",
     "text": [
      "200 {\"id\":14,\"page\":\"/test+\",\"description\":\"default description\"}\n",
      "{'description': 'default description', 'id': 14, 'page': '/test+'}\n"
     ]
    }
   ],
   "source": [
    "detail_path = \"/api/events/14\"\n",
    "detail_endpoint = f\"{base_url}{detail_path}\"\n",
    "\n",
    "detail_response = requests.get(detail_endpoint)\n",
    "print(detail_response.status_code, detail_response.text)\n",
    "\n",
    "if detail_response.ok:\n",
    "    data = detail_response.json()\n",
    "    pprint(data)\n"
   ]
  },
  {
   "cell_type": "code",
   "execution_count": 6,
   "id": "c7caa912",
   "metadata": {},
   "outputs": [
    {
     "name": "stdout",
     "output_type": "stream",
     "text": [
      "404 {\"detail\":\"Event not found\"}\n"
     ]
    }
   ],
   "source": [
    "detail_path = \"/api/events/15\"\n",
    "detail_endpoint = f\"{base_url}{detail_path}\"\n",
    "\n",
    "detail_response = requests.get(detail_endpoint)\n",
    "print(detail_response.status_code, detail_response.text)\n",
    "\n",
    "if detail_response.ok:\n",
    "    data = detail_response.json()\n",
    "    pprint(data)"
   ]
  }
 ],
 "metadata": {
  "kernelspec": {
   "display_name": "venv",
   "language": "python",
   "name": "python3"
  },
  "language_info": {
   "codemirror_mode": {
    "name": "ipython",
    "version": 3
   },
   "file_extension": ".py",
   "mimetype": "text/x-python",
   "name": "python",
   "nbconvert_exporter": "python",
   "pygments_lexer": "ipython3",
   "version": "3.12.5"
  }
 },
 "nbformat": 4,
 "nbformat_minor": 5
}
