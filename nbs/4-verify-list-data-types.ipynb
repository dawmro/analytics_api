{
 "cells": [
  {
   "cell_type": "code",
   "execution_count": 7,
   "id": "0825afeb",
   "metadata": {},
   "outputs": [],
   "source": [
    "import requests\n",
    "from pprint import pprint"
   ]
  },
  {
   "cell_type": "code",
   "execution_count": 8,
   "id": "46e0bfed",
   "metadata": {},
   "outputs": [
    {
     "name": "stdout",
     "output_type": "stream",
     "text": [
      "http://localhost:8002/api/events\n"
     ]
    }
   ],
   "source": [
    "path = \"/api/events\"\n",
    "base_url = \"http://localhost:8002\"\n",
    "endpoint = f\"{base_url}{path}\"\n",
    "print(endpoint)"
   ]
  },
  {
   "cell_type": "code",
   "execution_count": 9,
   "id": "cb86f3af",
   "metadata": {},
   "outputs": [
    {
     "name": "stdout",
     "output_type": "stream",
     "text": [
      "True\n"
     ]
    }
   ],
   "source": [
    "response = requests.get(endpoint, params={'duration': '1 minute', 'pages': ['/about', '/contact']})\n",
    "print(response.ok)"
   ]
  },
  {
   "cell_type": "code",
   "execution_count": 10,
   "id": "b1cdfc6a",
   "metadata": {},
   "outputs": [
    {
     "name": "stdout",
     "output_type": "stream",
     "text": [
      "[{'bucket': '2025-10-28T02:28:00Z', 'count': 17, 'page': '/about'},\n",
      " {'bucket': '2025-10-28T02:28:00Z', 'count': 19, 'page': '/contact'},\n",
      " {'bucket': '2025-10-28T02:29:00Z', 'count': 159, 'page': '/about'},\n",
      " {'bucket': '2025-10-28T02:29:00Z', 'count': 115, 'page': '/contact'},\n",
      " {'bucket': '2025-10-28T02:30:00Z', 'count': 132, 'page': '/about'},\n",
      " {'bucket': '2025-10-28T02:30:00Z', 'count': 154, 'page': '/contact'},\n",
      " {'bucket': '2025-10-28T02:31:00Z', 'count': 154, 'page': '/about'},\n",
      " {'bucket': '2025-10-28T02:31:00Z', 'count': 155, 'page': '/contact'},\n",
      " {'bucket': '2025-10-28T02:32:00Z', 'count': 153, 'page': '/about'},\n",
      " {'bucket': '2025-10-28T02:32:00Z', 'count': 153, 'page': '/contact'},\n",
      " {'bucket': '2025-10-28T02:33:00Z', 'count': 147, 'page': '/about'},\n",
      " {'bucket': '2025-10-28T02:33:00Z', 'count': 140, 'page': '/contact'},\n",
      " {'bucket': '2025-10-28T02:34:00Z', 'count': 132, 'page': '/about'},\n",
      " {'bucket': '2025-10-28T02:34:00Z', 'count': 155, 'page': '/contact'},\n",
      " {'bucket': '2025-10-28T02:35:00Z', 'count': 148, 'page': '/about'},\n",
      " {'bucket': '2025-10-28T02:35:00Z', 'count': 137, 'page': '/contact'},\n",
      " {'bucket': '2025-10-28T02:36:00Z', 'count': 151, 'page': '/about'},\n",
      " {'bucket': '2025-10-28T02:36:00Z', 'count': 150, 'page': '/contact'},\n",
      " {'bucket': '2025-10-28T02:37:00Z', 'count': 164, 'page': '/about'},\n",
      " {'bucket': '2025-10-28T02:37:00Z', 'count': 136, 'page': '/contact'},\n",
      " {'bucket': '2025-10-28T02:38:00Z', 'count': 148, 'page': '/about'},\n",
      " {'bucket': '2025-10-28T02:38:00Z', 'count': 147, 'page': '/contact'},\n",
      " {'bucket': '2025-10-28T02:39:00Z', 'count': 139, 'page': '/about'},\n",
      " {'bucket': '2025-10-28T02:39:00Z', 'count': 151, 'page': '/contact'},\n",
      " {'bucket': '2025-10-28T02:40:00Z', 'count': 132, 'page': '/about'},\n",
      " {'bucket': '2025-10-28T02:40:00Z', 'count': 153, 'page': '/contact'},\n",
      " {'bucket': '2025-10-28T02:41:00Z', 'count': 139, 'page': '/about'},\n",
      " {'bucket': '2025-10-28T02:41:00Z', 'count': 148, 'page': '/contact'},\n",
      " {'bucket': '2025-10-28T02:42:00Z', 'count': 141, 'page': '/about'},\n",
      " {'bucket': '2025-10-28T02:42:00Z', 'count': 153, 'page': '/contact'},\n",
      " {'bucket': '2025-10-28T02:43:00Z', 'count': 138, 'page': '/about'},\n",
      " {'bucket': '2025-10-28T02:43:00Z', 'count': 141, 'page': '/contact'},\n",
      " {'bucket': '2025-10-28T02:44:00Z', 'count': 146, 'page': '/about'},\n",
      " {'bucket': '2025-10-28T02:44:00Z', 'count': 173, 'page': '/contact'},\n",
      " {'bucket': '2025-10-28T02:45:00Z', 'count': 121, 'page': '/about'},\n",
      " {'bucket': '2025-10-28T02:45:00Z', 'count': 127, 'page': '/contact'},\n",
      " {'bucket': '2025-10-28T19:02:00Z', 'count': 41, 'page': '/about'},\n",
      " {'bucket': '2025-10-28T19:02:00Z', 'count': 38, 'page': '/contact'},\n",
      " {'bucket': '2025-10-28T19:03:00Z', 'count': 138, 'page': '/about'},\n",
      " {'bucket': '2025-10-28T19:03:00Z', 'count': 150, 'page': '/contact'},\n",
      " {'bucket': '2025-10-28T19:04:00Z', 'count': 144, 'page': '/about'},\n",
      " {'bucket': '2025-10-28T19:04:00Z', 'count': 155, 'page': '/contact'},\n",
      " {'bucket': '2025-10-28T19:05:00Z', 'count': 172, 'page': '/about'},\n",
      " {'bucket': '2025-10-28T19:05:00Z', 'count': 150, 'page': '/contact'},\n",
      " {'bucket': '2025-10-28T19:06:00Z', 'count': 134, 'page': '/about'},\n",
      " {'bucket': '2025-10-28T19:06:00Z', 'count': 159, 'page': '/contact'},\n",
      " {'bucket': '2025-10-28T19:07:00Z', 'count': 130, 'page': '/about'},\n",
      " {'bucket': '2025-10-28T19:07:00Z', 'count': 148, 'page': '/contact'},\n",
      " {'bucket': '2025-10-28T19:08:00Z', 'count': 157, 'page': '/about'},\n",
      " {'bucket': '2025-10-28T19:08:00Z', 'count': 159, 'page': '/contact'},\n",
      " {'bucket': '2025-10-28T19:09:00Z', 'count': 134, 'page': '/about'},\n",
      " {'bucket': '2025-10-28T19:09:00Z', 'count': 151, 'page': '/contact'},\n",
      " {'bucket': '2025-10-28T19:10:00Z', 'count': 156, 'page': '/about'},\n",
      " {'bucket': '2025-10-28T19:10:00Z', 'count': 135, 'page': '/contact'},\n",
      " {'bucket': '2025-10-28T19:11:00Z', 'count': 141, 'page': '/about'},\n",
      " {'bucket': '2025-10-28T19:11:00Z', 'count': 146, 'page': '/contact'},\n",
      " {'bucket': '2025-10-28T19:12:00Z', 'count': 147, 'page': '/about'},\n",
      " {'bucket': '2025-10-28T19:12:00Z', 'count': 154, 'page': '/contact'},\n",
      " {'bucket': '2025-10-28T19:13:00Z', 'count': 140, 'page': '/about'},\n",
      " {'bucket': '2025-10-28T19:13:00Z', 'count': 165, 'page': '/contact'},\n",
      " {'bucket': '2025-10-28T19:14:00Z', 'count': 150, 'page': '/about'},\n",
      " {'bucket': '2025-10-28T19:14:00Z', 'count': 165, 'page': '/contact'},\n",
      " {'bucket': '2025-10-28T19:15:00Z', 'count': 139, 'page': '/about'},\n",
      " {'bucket': '2025-10-28T19:15:00Z', 'count': 135, 'page': '/contact'},\n",
      " {'bucket': '2025-10-28T19:16:00Z', 'count': 148, 'page': '/about'},\n",
      " {'bucket': '2025-10-28T19:16:00Z', 'count': 139, 'page': '/contact'},\n",
      " {'bucket': '2025-10-28T19:17:00Z', 'count': 150, 'page': '/about'},\n",
      " {'bucket': '2025-10-28T19:17:00Z', 'count': 139, 'page': '/contact'},\n",
      " {'bucket': '2025-10-28T19:18:00Z', 'count': 147, 'page': '/about'},\n",
      " {'bucket': '2025-10-28T19:18:00Z', 'count': 143, 'page': '/contact'},\n",
      " {'bucket': '2025-10-28T19:19:00Z', 'count': 120, 'page': '/about'},\n",
      " {'bucket': '2025-10-28T19:19:00Z', 'count': 130, 'page': '/contact'},\n",
      " {'bucket': '2025-10-28T22:51:00Z', 'count': 133, 'page': '/about'},\n",
      " {'bucket': '2025-10-28T22:51:00Z', 'count': 135, 'page': '/contact'},\n",
      " {'bucket': '2025-10-28T22:52:00Z', 'count': 156, 'page': '/about'},\n",
      " {'bucket': '2025-10-28T22:52:00Z', 'count': 147, 'page': '/contact'},\n",
      " {'bucket': '2025-10-28T22:53:00Z', 'count': 137, 'page': '/about'},\n",
      " {'bucket': '2025-10-28T22:53:00Z', 'count': 151, 'page': '/contact'},\n",
      " {'bucket': '2025-10-28T22:54:00Z', 'count': 129, 'page': '/about'},\n",
      " {'bucket': '2025-10-28T22:54:00Z', 'count': 160, 'page': '/contact'},\n",
      " {'bucket': '2025-10-28T22:55:00Z', 'count': 143, 'page': '/about'},\n",
      " {'bucket': '2025-10-28T22:55:00Z', 'count': 142, 'page': '/contact'},\n",
      " {'bucket': '2025-10-28T22:56:00Z', 'count': 149, 'page': '/about'},\n",
      " {'bucket': '2025-10-28T22:56:00Z', 'count': 144, 'page': '/contact'},\n",
      " {'bucket': '2025-10-28T22:57:00Z', 'count': 139, 'page': '/about'},\n",
      " {'bucket': '2025-10-28T22:57:00Z', 'count': 133, 'page': '/contact'},\n",
      " {'bucket': '2025-10-28T22:58:00Z', 'count': 147, 'page': '/about'},\n",
      " {'bucket': '2025-10-28T22:58:00Z', 'count': 164, 'page': '/contact'},\n",
      " {'bucket': '2025-10-28T22:59:00Z', 'count': 139, 'page': '/about'},\n",
      " {'bucket': '2025-10-28T22:59:00Z', 'count': 152, 'page': '/contact'},\n",
      " {'bucket': '2025-10-28T23:00:00Z', 'count': 153, 'page': '/about'},\n",
      " {'bucket': '2025-10-28T23:00:00Z', 'count': 145, 'page': '/contact'},\n",
      " {'bucket': '2025-10-28T23:01:00Z', 'count': 152, 'page': '/about'},\n",
      " {'bucket': '2025-10-28T23:01:00Z', 'count': 128, 'page': '/contact'},\n",
      " {'bucket': '2025-10-28T23:02:00Z', 'count': 152, 'page': '/about'},\n",
      " {'bucket': '2025-10-28T23:02:00Z', 'count': 144, 'page': '/contact'},\n",
      " {'bucket': '2025-10-28T23:03:00Z', 'count': 140, 'page': '/about'},\n",
      " {'bucket': '2025-10-28T23:03:00Z', 'count': 143, 'page': '/contact'},\n",
      " {'bucket': '2025-10-28T23:04:00Z', 'count': 145, 'page': '/about'},\n",
      " {'bucket': '2025-10-28T23:04:00Z', 'count': 155, 'page': '/contact'},\n",
      " {'bucket': '2025-10-28T23:05:00Z', 'count': 162, 'page': '/about'},\n",
      " {'bucket': '2025-10-28T23:05:00Z', 'count': 152, 'page': '/contact'},\n",
      " {'bucket': '2025-10-28T23:06:00Z', 'count': 135, 'page': '/about'},\n",
      " {'bucket': '2025-10-28T23:06:00Z', 'count': 166, 'page': '/contact'},\n",
      " {'bucket': '2025-10-28T23:07:00Z', 'count': 129, 'page': '/about'},\n",
      " {'bucket': '2025-10-28T23:07:00Z', 'count': 142, 'page': '/contact'},\n",
      " {'bucket': '2025-10-28T23:08:00Z', 'count': 11, 'page': '/about'},\n",
      " {'bucket': '2025-10-28T23:08:00Z', 'count': 18, 'page': '/contact'},\n",
      " {'bucket': '2025-10-28T23:20:00Z', 'count': 55, 'page': '/about'},\n",
      " {'bucket': '2025-10-28T23:20:00Z', 'count': 77, 'page': '/contact'},\n",
      " {'bucket': '2025-10-28T23:21:00Z', 'count': 156, 'page': '/about'},\n",
      " {'bucket': '2025-10-28T23:21:00Z', 'count': 150, 'page': '/contact'},\n",
      " {'bucket': '2025-10-28T23:22:00Z', 'count': 157, 'page': '/about'},\n",
      " {'bucket': '2025-10-28T23:22:00Z', 'count': 160, 'page': '/contact'},\n",
      " {'bucket': '2025-10-28T23:23:00Z', 'count': 141, 'page': '/about'},\n",
      " {'bucket': '2025-10-28T23:23:00Z', 'count': 137, 'page': '/contact'},\n",
      " {'bucket': '2025-10-28T23:24:00Z', 'count': 136, 'page': '/about'},\n",
      " {'bucket': '2025-10-28T23:24:00Z', 'count': 149, 'page': '/contact'},\n",
      " {'bucket': '2025-10-28T23:25:00Z', 'count': 150, 'page': '/about'},\n",
      " {'bucket': '2025-10-28T23:25:00Z', 'count': 130, 'page': '/contact'},\n",
      " {'bucket': '2025-10-28T23:26:00Z', 'count': 154, 'page': '/about'},\n",
      " {'bucket': '2025-10-28T23:26:00Z', 'count': 147, 'page': '/contact'},\n",
      " {'bucket': '2025-10-28T23:27:00Z', 'count': 145, 'page': '/about'},\n",
      " {'bucket': '2025-10-28T23:27:00Z', 'count': 161, 'page': '/contact'},\n",
      " {'bucket': '2025-10-28T23:28:00Z', 'count': 146, 'page': '/about'},\n",
      " {'bucket': '2025-10-28T23:28:00Z', 'count': 146, 'page': '/contact'},\n",
      " {'bucket': '2025-10-28T23:29:00Z', 'count': 141, 'page': '/about'},\n",
      " {'bucket': '2025-10-28T23:29:00Z', 'count': 156, 'page': '/contact'},\n",
      " {'bucket': '2025-10-28T23:30:00Z', 'count': 149, 'page': '/about'},\n",
      " {'bucket': '2025-10-28T23:30:00Z', 'count': 140, 'page': '/contact'},\n",
      " {'bucket': '2025-10-28T23:31:00Z', 'count': 164, 'page': '/about'},\n",
      " {'bucket': '2025-10-28T23:31:00Z', 'count': 142, 'page': '/contact'},\n",
      " {'bucket': '2025-10-28T23:32:00Z', 'count': 150, 'page': '/about'},\n",
      " {'bucket': '2025-10-28T23:32:00Z', 'count': 154, 'page': '/contact'},\n",
      " {'bucket': '2025-10-28T23:33:00Z', 'count': 130, 'page': '/about'},\n",
      " {'bucket': '2025-10-28T23:33:00Z', 'count': 169, 'page': '/contact'},\n",
      " {'bucket': '2025-10-28T23:34:00Z', 'count': 158, 'page': '/about'},\n",
      " {'bucket': '2025-10-28T23:34:00Z', 'count': 135, 'page': '/contact'},\n",
      " {'bucket': '2025-10-28T23:35:00Z', 'count': 149, 'page': '/about'},\n",
      " {'bucket': '2025-10-28T23:35:00Z', 'count': 146, 'page': '/contact'},\n",
      " {'bucket': '2025-10-28T23:36:00Z', 'count': 155, 'page': '/about'},\n",
      " {'bucket': '2025-10-28T23:36:00Z', 'count': 153, 'page': '/contact'},\n",
      " {'bucket': '2025-10-28T23:37:00Z', 'count': 96, 'page': '/about'},\n",
      " {'bucket': '2025-10-28T23:37:00Z', 'count': 91, 'page': '/contact'}]\n"
     ]
    }
   ],
   "source": [
    "if response.ok:\n",
    "    data = response.json()\n",
    "    pprint(data)"
   ]
  },
  {
   "cell_type": "code",
   "execution_count": 11,
   "id": "cbbda97d",
   "metadata": {},
   "outputs": [
    {
     "name": "stdout",
     "output_type": "stream",
     "text": [
      "200 {\"time\":\"2025-10-28T02:28:53.135502Z\",\"description\":\"default description\",\"page\":\"/pages\",\"id\":14,\"updated_at\":\"2025-10-28T02:28:53.135511Z\"}\n",
      "{'description': 'default description',\n",
      " 'id': 14,\n",
      " 'page': '/pages',\n",
      " 'time': '2025-10-28T02:28:53.135502Z',\n",
      " 'updated_at': '2025-10-28T02:28:53.135511Z'}\n"
     ]
    }
   ],
   "source": [
    "detail_path = \"/api/events/14\"\n",
    "detail_endpoint = f\"{base_url}{detail_path}\"\n",
    "\n",
    "detail_response = requests.get(detail_endpoint)\n",
    "print(detail_response.status_code, detail_response.text)\n",
    "\n",
    "if detail_response.ok:\n",
    "    data = detail_response.json()\n",
    "    pprint(data)\n"
   ]
  },
  {
   "cell_type": "code",
   "execution_count": 12,
   "id": "c7caa912",
   "metadata": {},
   "outputs": [
    {
     "name": "stdout",
     "output_type": "stream",
     "text": [
      "200 {\"time\":\"2025-10-28T02:28:53.245452Z\",\"description\":\"default description\",\"page\":\"/contact\",\"id\":15,\"updated_at\":\"2025-10-28T02:28:53.245462Z\"}\n",
      "{'description': 'default description',\n",
      " 'id': 15,\n",
      " 'page': '/contact',\n",
      " 'time': '2025-10-28T02:28:53.245452Z',\n",
      " 'updated_at': '2025-10-28T02:28:53.245462Z'}\n"
     ]
    }
   ],
   "source": [
    "detail_path = \"/api/events/15\"\n",
    "detail_endpoint = f\"{base_url}{detail_path}\"\n",
    "\n",
    "detail_response = requests.get(detail_endpoint)\n",
    "print(detail_response.status_code, detail_response.text)\n",
    "\n",
    "if detail_response.ok:\n",
    "    data = detail_response.json()\n",
    "    pprint(data)"
   ]
  }
 ],
 "metadata": {
  "kernelspec": {
   "display_name": "venv",
   "language": "python",
   "name": "python3"
  },
  "language_info": {
   "codemirror_mode": {
    "name": "ipython",
    "version": 3
   },
   "file_extension": ".py",
   "mimetype": "text/x-python",
   "name": "python",
   "nbconvert_exporter": "python",
   "pygments_lexer": "ipython3",
   "version": "3.12.5"
  }
 },
 "nbformat": 4,
 "nbformat_minor": 5
}
