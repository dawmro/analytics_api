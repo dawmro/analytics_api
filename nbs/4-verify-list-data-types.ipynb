{
 "cells": [
  {
   "cell_type": "code",
   "execution_count": 13,
   "id": "0825afeb",
   "metadata": {},
   "outputs": [],
   "source": [
    "import requests\n",
    "from pprint import pprint"
   ]
  },
  {
   "cell_type": "code",
   "execution_count": 14,
   "id": "46e0bfed",
   "metadata": {},
   "outputs": [
    {
     "name": "stdout",
     "output_type": "stream",
     "text": [
      "http://localhost:8002/api/events\n"
     ]
    }
   ],
   "source": [
    "path = \"/api/events\"\n",
    "base_url = \"http://localhost:8002\"\n",
    "endpoint = f\"{base_url}{path}\"\n",
    "print(endpoint)"
   ]
  },
  {
   "cell_type": "code",
   "execution_count": 15,
   "id": "cb86f3af",
   "metadata": {},
   "outputs": [
    {
     "name": "stdout",
     "output_type": "stream",
     "text": [
      "True\n"
     ]
    }
   ],
   "source": [
    "response = requests.get(endpoint)\n",
    "print(response.ok)"
   ]
  },
  {
   "cell_type": "code",
   "execution_count": 16,
   "id": "b1cdfc6a",
   "metadata": {},
   "outputs": [
    {
     "name": "stdout",
     "output_type": "stream",
     "text": [
      "{'count': 10,\n",
      " 'results': [{'description': 'default description', 'id': 14, 'page': '/test+'},\n",
      "             {'description': 'default description', 'id': 13, 'page': '/test+'},\n",
      "             {'description': 'default description', 'id': 12, 'page': '/test+'},\n",
      "             {'description': 'default description', 'id': 11, 'page': '/test+'},\n",
      "             {'description': 'default description', 'id': 10, 'page': '/test+'},\n",
      "             {'description': 'default description', 'id': 9, 'page': '/test+'},\n",
      "             {'description': 'default description', 'id': 8, 'page': '/test+'},\n",
      "             {'description': 'default description', 'id': 7, 'page': '/test+'},\n",
      "             {'description': 'default description', 'id': 6, 'page': '/test+'},\n",
      "             {'description': 'default description', 'id': 5, 'page': '/test+'}]}\n"
     ]
    }
   ],
   "source": [
    "if response.ok:\n",
    "    data = response.json()\n",
    "    pprint(data)"
   ]
  },
  {
   "cell_type": "code",
   "execution_count": null,
   "id": "cbbda97d",
   "metadata": {},
   "outputs": [],
   "source": []
  }
 ],
 "metadata": {
  "kernelspec": {
   "display_name": "venv",
   "language": "python",
   "name": "python3"
  },
  "language_info": {
   "codemirror_mode": {
    "name": "ipython",
    "version": 3
   },
   "file_extension": ".py",
   "mimetype": "text/x-python",
   "name": "python",
   "nbconvert_exporter": "python",
   "pygments_lexer": "ipython3",
   "version": "3.12.5"
  }
 },
 "nbformat": 4,
 "nbformat_minor": 5
}
