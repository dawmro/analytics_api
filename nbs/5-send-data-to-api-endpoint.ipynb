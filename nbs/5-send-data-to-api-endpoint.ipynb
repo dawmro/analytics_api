{
 "cells": [
  {
   "cell_type": "code",
   "execution_count": 13,
   "id": "0825afeb",
   "metadata": {},
   "outputs": [],
   "source": [
    "import requests"
   ]
  },
  {
   "cell_type": "code",
   "execution_count": 14,
   "id": "cb86f3af",
   "metadata": {},
   "outputs": [
    {
     "name": "stdout",
     "output_type": "stream",
     "text": [
      "http://localhost:8002/api/events\n",
      "{'date': 'Mon, 27 Oct 2025 22:34:38 GMT', 'server': 'uvicorn', 'content-length': '146', 'content-type': 'application/json'}\n",
      "True\n",
      "{'updated_at': '2025-10-27T22:34:38.991113Z', 'id': 4, 'description': 'default description', 'created_at': '2025-10-27T22:34:38.991105Z', 'page': '/test+'} <class 'dict'>\n"
     ]
    }
   ],
   "source": [
    "path = \"/api/events\"\n",
    "base_url = \"http://localhost:8002\"\n",
    "create_endpoint = f\"{base_url}{path}\"\n",
    "print(create_endpoint)\n",
    "\n",
    "response = requests.post(create_endpoint, json={\"page\": \"/test+\"})\n",
    "print(response.headers)\n",
    "print(response.ok)\n",
    "\n",
    "if response.ok:\n",
    "    data = response.json()\n",
    "    print(data, type(data))\n",
    "else:\n",
    "    print(response.text)"
   ]
  },
  {
   "cell_type": "code",
   "execution_count": 15,
   "id": "b1cdfc6a",
   "metadata": {},
   "outputs": [
    {
     "name": "stdout",
     "output_type": "stream",
     "text": [
      "http://localhost:8002/api/events/1/\n",
      "{'date': 'Mon, 27 Oct 2025 22:34:38 GMT', 'server': 'uvicorn', 'content-length': '137', 'content-type': 'application/json'}\n",
      "True\n",
      "{'updated_at': '2025-10-27T22:34:39.102110Z', 'id': 1, 'description': 'hello test', 'created_at': '2025-10-27T22:31:56.714640Z', 'page': '/test+'} <class 'dict'>\n"
     ]
    }
   ],
   "source": [
    "detail_path = \"/api/events/1/\"\n",
    "detail_endpoint = f\"{base_url}{detail_path}\"\n",
    "print(detail_endpoint)\n",
    "\n",
    "response = requests.put(detail_endpoint, json={\"description\": \"hello test\"})\n",
    "print(response.headers)\n",
    "print(response.ok)\n",
    "\n",
    "if response.ok:\n",
    "    data = response.json()\n",
    "    print(data, type(data))\n",
    "else:\n",
    "    print(response.text)"
   ]
  },
  {
   "cell_type": "code",
   "execution_count": 16,
   "id": "03b51612",
   "metadata": {},
   "outputs": [
    {
     "name": "stdout",
     "output_type": "stream",
     "text": [
      "http://localhost:8002/api/events/170/\n",
      "{'date': 'Mon, 27 Oct 2025 22:34:38 GMT', 'server': 'uvicorn', 'content-length': '28', 'content-type': 'application/json'}\n",
      "False\n",
      "{\"detail\":\"Event not found\"}\n"
     ]
    }
   ],
   "source": [
    "detail_path = \"/api/events/170/\"\n",
    "detail_endpoint = f\"{base_url}{detail_path}\"\n",
    "print(detail_endpoint)\n",
    "\n",
    "response = requests.put(detail_endpoint, json={\"description\": \"hello test\"})\n",
    "print(response.headers)\n",
    "print(response.ok)\n",
    "\n",
    "if response.ok:\n",
    "    data = response.json()\n",
    "    print(data, type(data))\n",
    "else:\n",
    "    print(response.text)"
   ]
  }
 ],
 "metadata": {
  "kernelspec": {
   "display_name": "venv",
   "language": "python",
   "name": "python3"
  },
  "language_info": {
   "codemirror_mode": {
    "name": "ipython",
    "version": 3
   },
   "file_extension": ".py",
   "mimetype": "text/x-python",
   "name": "python",
   "nbconvert_exporter": "python",
   "pygments_lexer": "ipython3",
   "version": "3.12.5"
  }
 },
 "nbformat": 4,
 "nbformat_minor": 5
}
