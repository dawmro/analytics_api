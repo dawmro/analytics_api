{
 "cells": [
  {
   "cell_type": "code",
   "execution_count": 1,
   "id": "34b20ab4",
   "metadata": {},
   "outputs": [],
   "source": [
    "import requests"
   ]
  },
  {
   "cell_type": "code",
   "execution_count": 2,
   "id": "dcb17047",
   "metadata": {},
   "outputs": [
    {
     "name": "stdout",
     "output_type": "stream",
     "text": [
      "http://localhost:8002/healthz\n"
     ]
    }
   ],
   "source": [
    "path = \"/healthz\"\n",
    "base_url = \"http://localhost:8002\"\n",
    "endpoint = f\"{base_url}{path}\"\n",
    "print(endpoint)"
   ]
  },
  {
   "cell_type": "code",
   "execution_count": 3,
   "id": "80290988",
   "metadata": {},
   "outputs": [
    {
     "name": "stdout",
     "output_type": "stream",
     "text": [
      "True\n"
     ]
    }
   ],
   "source": [
    "response = requests.get(endpoint)\n",
    "print(response.ok)"
   ]
  },
  {
   "cell_type": "code",
   "execution_count": null,
   "id": "9b4657d9",
   "metadata": {},
   "outputs": [],
   "source": []
  }
 ],
 "metadata": {
  "kernelspec": {
   "display_name": "venv",
   "language": "python",
   "name": "python3"
  },
  "language_info": {
   "codemirror_mode": {
    "name": "ipython",
    "version": 3
   },
   "file_extension": ".py",
   "mimetype": "text/x-python",
   "name": "python",
   "nbconvert_exporter": "python",
   "pygments_lexer": "ipython3",
   "version": "3.12.5"
  }
 },
 "nbformat": 4,
 "nbformat_minor": 5
}
